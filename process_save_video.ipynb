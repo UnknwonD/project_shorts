{
 "cells": [
  {
   "cell_type": "code",
   "execution_count": 34,
   "metadata": {},
   "outputs": [],
   "source": [
    "import os\n",
    "import cv2\n",
    "import numpy as np\n",
    "import json\n",
    "from tqdm import tqdm"
   ]
  },
  {
   "cell_type": "markdown",
   "metadata": {},
   "source": [
    "### 비디오 데이터 전처리 함수"
   ]
  },
  {
   "cell_type": "code",
   "execution_count": 35,
   "metadata": {},
   "outputs": [],
   "source": [
    "def preprocess_video_every_3_seconds(video_path:str, frame_size:tuple, block_nums:int, frame_rate=3):\n",
    "    \"\"\"\n",
    "    Extracts frames every 3 seconds from a video file, resizing them to frame_size and converting to grayscale.\n",
    "    \n",
    "    Args:\n",
    "    video_path (str): Path to the video file.\n",
    "    frame_size (tuple): Size (height, width) to resize frames.\n",
    "    block_nums (int) : Total count for three-seconds-blocks\n",
    "    frame_rate (int): Number of frames to extract per second within the 3-second window.\n",
    "\n",
    "    Returns:\n",
    "    List[numpy.ndarray]: List of sequences, where each sequence is a numpy array of shape (num_frames, height, width, 1).\n",
    "    \"\"\"\n",
    "\n",
    "    vidcap = cv2.VideoCapture(video_path)\n",
    "    fps = vidcap.get(cv2.CAP_PROP_FPS)\n",
    "    interval = int(fps * 3)\n",
    "\n",
    "    sequences = []\n",
    "    while True:\n",
    "        frames = []\n",
    "        for _ in range(interval):\n",
    "            success, frame = vidcap.read()\n",
    "            if not success:\n",
    "                break\n",
    "            frame = cv2.resize(frame, frame_size, interpolation=cv2.INTER_AREA)\n",
    "            gray_frame = cv2.cvtColor(frame, cv2.COLOR_BGR2GRAY)\n",
    "            gray_frame = np.expand_dims(gray_frame, axis=-1)  # 채널 수 늘려줌\n",
    "            gray_frame = gray_frame.astype(np.float32) / 255.0 \n",
    "            frames.append(gray_frame)\n",
    "\n",
    "        if len(frames) == 0:\n",
    "            break\n",
    "        \n",
    "        if len(frames) >= frame_rate : \n",
    "            sequences.append(np.array(frames[:frame_rate * 3]))  # 모든 frame이 3초단위로 들어갈 수 있도록 제어\n",
    "        \n",
    "        if len(sequences) > block_nums:\n",
    "            break\n",
    "\n",
    "    vidcap.release()\n",
    "    return np.array(sequences[:-1])\n"
   ]
  },
  {
   "cell_type": "code",
   "execution_count": 36,
   "metadata": {},
   "outputs": [],
   "source": [
    "def parse_annotations(annotations:list):\n",
    "    \"\"\"\n",
    "    Extracts Every Annotation from json label file\n",
    "    \n",
    "    Args:\n",
    "    annotations(List): List of Dictionary for annotations label with highlight and represent\n",
    "\n",
    "    Returns:\n",
    "    Dict: Whether each block is Highlight or not\n",
    "    \"\"\"\n",
    "    highlight_map = {}\n",
    "    \n",
    "    for annot in annotations:\n",
    "        block_num = annot['highlight']\n",
    "        for num in block_num:\n",
    "            highlight_map[num] = 1\n",
    "            \n",
    "    ret = [0] * len(highlight_map)\n",
    "    for i, item in enumerate(highlight_map.items()):\n",
    "        ret[item] = 1\n",
    "                \n",
    "    return highlight_map"
   ]
  },
  {
   "cell_type": "markdown",
   "metadata": {},
   "source": [
    "#### Audio 데이터 전처리 함수"
   ]
  },
  {
   "cell_type": "code",
   "execution_count": 37,
   "metadata": {},
   "outputs": [],
   "source": [
    "import librosa \n",
    "import librosa.display as dsp\n",
    "from IPython.display import Audio\n",
    "from moviepy.editor import VideoFileClip"
   ]
  },
  {
   "cell_type": "code",
   "execution_count": 38,
   "metadata": {},
   "outputs": [],
   "source": [
    "def extract_audio(video_path, audio_path):\n",
    "    # 비디오 파일 열기\n",
    "    video_clip = VideoFileClip(video_path)\n",
    "    \n",
    "    # 오디오 추출 및 저장\n",
    "    audio_clip = video_clip.audio\n",
    "    audio_clip.write_audiofile(audio_path, verbose=False, logger=None)\n",
    "\n",
    "    # 파일 닫기\n",
    "    video_clip.close()"
   ]
  },
  {
   "cell_type": "code",
   "execution_count": 39,
   "metadata": {},
   "outputs": [],
   "source": [
    "def preprocess_audio(audio_path, sample_rate=22050, n_fft=2048, hop_length=512, n_mels=130, segment_duration=3):\n",
    "    # 오디오 파일 로드\n",
    "    audio, sr = librosa.load(audio_path, sr=sample_rate)\n",
    "    \n",
    "    # 세그먼트 길이 계산 (샘플 단위)\n",
    "    segment_length = int(sr * segment_duration)\n",
    "    \n",
    "    # 오디오를 3초 단위로 세그먼트로 나누기\n",
    "    segments = []\n",
    "    num_segments = len(audio) // segment_length\n",
    "    for i in range(num_segments):\n",
    "        start_idx = i * segment_length\n",
    "        end_idx = start_idx + segment_length\n",
    "        segment = audio[start_idx:end_idx]\n",
    "        \n",
    "        # 멜 스펙트로그램 추출 및 디시벨 변환\n",
    "        mel_spectrogram = librosa.feature.melspectrogram(y=segment, sr=sr, n_fft=n_fft, hop_length=hop_length, n_mels=n_mels)\n",
    "        mel_spectrogram_db = librosa.power_to_db(mel_spectrogram, ref=np.max)\n",
    "        \n",
    "        segments.append(mel_spectrogram_db)\n",
    "    \n",
    "    return np.array(segments)"
   ]
  },
  {
   "cell_type": "code",
   "execution_count": 40,
   "metadata": {},
   "outputs": [],
   "source": [
    "# 무비 파일 경로\n",
    "video_path = 'data/원천데이터/2~5분/test.mp4'\n",
    "audio_path = 'audio.wav'\n",
    "\n",
    "# 오디오 추출\n",
    "extract_audio(video_path, audio_path)"
   ]
  },
  {
   "cell_type": "markdown",
   "metadata": {},
   "source": [
    "### 전처리 진행"
   ]
  },
  {
   "cell_type": "code",
   "execution_count": 41,
   "metadata": {},
   "outputs": [],
   "source": [
    "video_length = ['2~5분', '5~20분']\n",
    "# video_length = ['2~5분']"
   ]
  },
  {
   "cell_type": "code",
   "execution_count": 42,
   "metadata": {},
   "outputs": [
    {
     "name": "stderr",
     "output_type": "stream",
     "text": [
      "  0%|          | 0/99 [00:00<?, ?it/s]"
     ]
    },
    {
     "name": "stderr",
     "output_type": "stream",
     "text": [
      "  2%|▏         | 2/99 [00:43<34:57, 21.62s/it]\n"
     ]
    },
    {
     "ename": "KeyboardInterrupt",
     "evalue": "",
     "output_type": "error",
     "traceback": [
      "\u001b[1;31m---------------------------------------------------------------------------\u001b[0m",
      "\u001b[1;31mKeyboardInterrupt\u001b[0m                         Traceback (most recent call last)",
      "Cell \u001b[1;32mIn[42], line 47\u001b[0m\n\u001b[0;32m     44\u001b[0m \u001b[38;5;66;03m# print(item)\u001b[39;00m\n\u001b[0;32m     45\u001b[0m annotations \u001b[38;5;241m=\u001b[39m item[\u001b[38;5;124m'\u001b[39m\u001b[38;5;124mannots\u001b[39m\u001b[38;5;124m'\u001b[39m]\n\u001b[1;32m---> 47\u001b[0m output \u001b[38;5;241m=\u001b[39m \u001b[43mpreprocess_video_every_3_seconds\u001b[49m\u001b[43m(\u001b[49m\u001b[43minput_video_path\u001b[49m\u001b[43m,\u001b[49m\u001b[43m \u001b[49m\u001b[43m(\u001b[49m\u001b[38;5;241;43m256\u001b[39;49m\u001b[43m,\u001b[49m\u001b[43m \u001b[49m\u001b[38;5;241;43m256\u001b[39;49m\u001b[43m)\u001b[49m\u001b[43m,\u001b[49m\u001b[43m \u001b[49m\u001b[43mblocks_num\u001b[49m\u001b[43m)\u001b[49m\n\u001b[0;32m     48\u001b[0m np\u001b[38;5;241m.\u001b[39msave(output_video_path, output)\n\u001b[0;32m     50\u001b[0m \u001b[38;5;66;03m######################################\u001b[39;00m\n\u001b[0;32m     51\u001b[0m \u001b[38;5;66;03m# 오디오 전처리 및 학습 가능 파일로 저장\u001b[39;00m\n\u001b[0;32m     52\u001b[0m \u001b[38;5;66;03m# 저장 및 동기화 시간을 고려하여 영상 전처리 후 마지막 순서에 배치\u001b[39;00m\n",
      "Cell \u001b[1;32mIn[35], line 26\u001b[0m, in \u001b[0;36mpreprocess_video_every_3_seconds\u001b[1;34m(video_path, frame_size, block_nums, frame_rate)\u001b[0m\n\u001b[0;32m     24\u001b[0m \u001b[38;5;28;01mif\u001b[39;00m \u001b[38;5;129;01mnot\u001b[39;00m success:\n\u001b[0;32m     25\u001b[0m     \u001b[38;5;28;01mbreak\u001b[39;00m\n\u001b[1;32m---> 26\u001b[0m frame \u001b[38;5;241m=\u001b[39m \u001b[43mcv2\u001b[49m\u001b[38;5;241;43m.\u001b[39;49m\u001b[43mresize\u001b[49m\u001b[43m(\u001b[49m\u001b[43mframe\u001b[49m\u001b[43m,\u001b[49m\u001b[43m \u001b[49m\u001b[43mframe_size\u001b[49m\u001b[43m,\u001b[49m\u001b[43m \u001b[49m\u001b[43minterpolation\u001b[49m\u001b[38;5;241;43m=\u001b[39;49m\u001b[43mcv2\u001b[49m\u001b[38;5;241;43m.\u001b[39;49m\u001b[43mINTER_AREA\u001b[49m\u001b[43m)\u001b[49m\n\u001b[0;32m     27\u001b[0m gray_frame \u001b[38;5;241m=\u001b[39m cv2\u001b[38;5;241m.\u001b[39mcvtColor(frame, cv2\u001b[38;5;241m.\u001b[39mCOLOR_BGR2GRAY)\n\u001b[0;32m     28\u001b[0m gray_frame \u001b[38;5;241m=\u001b[39m np\u001b[38;5;241m.\u001b[39mexpand_dims(gray_frame, axis\u001b[38;5;241m=\u001b[39m\u001b[38;5;241m-\u001b[39m\u001b[38;5;241m1\u001b[39m)  \u001b[38;5;66;03m# 채널 수 늘려줌\u001b[39;00m\n",
      "\u001b[1;31mKeyboardInterrupt\u001b[0m: "
     ]
    }
   ],
   "source": [
    "new_video_data = []\n",
    "output_json_path = f'processed/label/processed_video_data.json'\n",
    "\n",
    "for i, leng in enumerate(video_length):\n",
    "\n",
    "    output_video_dir = 'processed/video/'\n",
    "    output_wav_dir = 'processed/wav/'\n",
    "    output_audio_dir = 'processed/audio/'\n",
    "\n",
    "    json_path = f'data/라벨링데이터/video_summary_validation_data({leng}).json'\n",
    "    video_path = f'data/원천데이터/{leng}/'\n",
    "\n",
    "    with open(json_path, 'r', encoding='utf-8') as f:\n",
    "        label_data = json.load(f)\n",
    "\n",
    "    if i == 0:\n",
    "        video_idx = 1\n",
    "\n",
    "    for item in tqdm(label_data):\n",
    "        input_video_name = item['filename'] + '.mp4'\n",
    "        input_video_path = os.path.join(video_path, input_video_name)\n",
    "\n",
    "        output_video_name = f\"processed_video_{video_idx}.npy\"\n",
    "        output_video_path = os.path.join(output_video_dir, output_video_name)\n",
    "        \n",
    "        output_wav_name = f\"processed_video_{video_idx}.wav\"\n",
    "        output_wav_path =  os.path.join(output_wav_dir, output_wav_name)\n",
    "\n",
    "        output_audio_name = f\"processed_audio_{video_idx}.npy\"\n",
    "        output_audio_path =  os.path.join(output_audio_dir, output_audio_name)\n",
    "\n",
    "        if not os.path.exists(input_video_path):\n",
    "            print(f\"Not Found : {input_video_path}\")\n",
    "            continue\n",
    "\n",
    "\n",
    "        ######################################\n",
    "        # 오디오 데이터 분리 후 저장\n",
    "        extract_audio(input_video_path, output_wav_path) # mp4에서 오디오(wav) 추출 및 저장\n",
    "\n",
    "        ######################################\n",
    "        # 영상 전처리 진행 및 저장\n",
    "        blocks_num = item[\"three_secs\"][-1] + 1\n",
    "        # print(item)\n",
    "        annotations = item['annots']\n",
    "\n",
    "        output = preprocess_video_every_3_seconds(input_video_path, (256, 256), blocks_num)\n",
    "        np.save(output_video_path, output)\n",
    "\n",
    "        ######################################\n",
    "        # 오디오 전처리 및 학습 가능 파일로 저장\n",
    "        # 저장 및 동기화 시간을 고려하여 영상 전처리 후 마지막 순서에 배치\n",
    "        mel_spectrogram_segments = preprocess_audio(output_wav_path)\n",
    "        np.save(output_audio_path, mel_spectrogram_segments)\n",
    "\n",
    "\n",
    "        category = item[\"category\"]\n",
    "\n",
    "        item['filename'] = output_video_name\n",
    "        item['category'] = category.encode('utf-8').decode()\n",
    "        item['video_path'] = output_video_path\n",
    "        item['audio_path'] = output_audio_path\n",
    "        item['quality'] = '256 256' # 추 후에 데이터 사용할 때, split으로 사용할 수 있게 띄워쓰기로 구분\n",
    "\n",
    "        video_idx += 1\n",
    "        new_video_data.append(item)\n",
    "\n",
    "# 전처리된 데이터에 대해 라벨을 새로 저장해줌\n",
    "with open(output_json_path, 'w', encoding='utf-8') as f:\n",
    "    json.dump(new_video_data, f, ensure_ascii=False, indent=2)\n",
    "\n",
    "print(f\"Process Finish :: {leng}\")"
   ]
  },
  {
   "cell_type": "code",
   "execution_count": null,
   "metadata": {},
   "outputs": [],
   "source": [
    "from tensorflow.keras.models import Sequential\n",
    "from tensorflow.keras.layers import Conv2D, Flatten, Dense\n",
    "from tensorflow.keras.utils import to_categorical"
   ]
  },
  {
   "cell_type": "code",
   "execution_count": 8,
   "metadata": {},
   "outputs": [],
   "source": [
    "# CNN 모델 생성 함수\n",
    "def create_cnn_model(input_shape):\n",
    "    model = Sequential([\n",
    "        Conv2D(32, (3, 3), activation='relu', input_shape=input_shape),\n",
    "        Conv2D(64, (3, 3), activation='relu'),\n",
    "        Flatten(),\n",
    "        Dense(128, activation='relu'),\n",
    "        Dense(10, activation='softmax')\n",
    "    ])\n",
    "    return model"
   ]
  }
 ],
 "metadata": {
  "kernelspec": {
   "display_name": "tf",
   "language": "python",
   "name": "python3"
  },
  "language_info": {
   "codemirror_mode": {
    "name": "ipython",
    "version": 3
   },
   "file_extension": ".py",
   "mimetype": "text/x-python",
   "name": "python",
   "nbconvert_exporter": "python",
   "pygments_lexer": "ipython3",
   "version": "3.9.19"
  }
 },
 "nbformat": 4,
 "nbformat_minor": 2
}
